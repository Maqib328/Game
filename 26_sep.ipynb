{
  "nbformat": 4,
  "nbformat_minor": 0,
  "metadata": {
    "colab": {
      "provenance": [],
      "toc_visible": true
    },
    "kernelspec": {
      "name": "python3",
      "display_name": "Python 3"
    },
    "language_info": {
      "name": "python"
    }
  },
  "cells": [
    {
      "cell_type": "code",
      "source": [
        "import random\n",
        "\n",
        "def play_high_low():\n",
        "    \"\"\"Plays a round of the High-Low game.\"\"\"\n",
        "    player_number = random.randint(1, 100)\n",
        "    computer_number = random.randint(1, 100)\n",
        "\n",
        "    print(\"Your number is:\", player_number)\n",
        "    guess = input(\"Is your number higher or lower than the computer's? (higher/lower): \")\n",
        "\n",
        "    if (player_number > computer_number and guess == \"higher\") or \\\n",
        "       (player_number < computer_number and guess == \"lower\"):\n",
        "        print(\"Correct!\")\n",
        "        return 1\n",
        "    else:\n",
        "        print(\" Aww, That's Incorrect.\")\n",
        "        return 0\n",
        "\n",
        "def main():\n",
        "    \"\"\"Main function to control the game.\"\"\"\n",
        "    num_rounds = int(input(\"Welcome to High-Low Game!\\n------------------------------------\\nHow many rounds do you want to play \"))\n",
        "    player_score = 0\n",
        "\n",
        "    for _ in range(num_rounds):\n",
        "        score = play_high_low()\n",
        "        player_score += score\n",
        "\n",
        "    print(\"Your final score is:\", player_score)\n",
        "\n",
        "if __name__ == \"__main__\":\n",
        "    main()\n",
        "    print(\"Thanks For Playing\\nGood Job You Played Very Well!\")"
      ],
      "metadata": {
        "id": "Ue8U_LAKOIE5",
        "colab": {
          "base_uri": "https://localhost:8080/"
        },
        "outputId": "b2373c5d-d0e5-4da2-c1bf-03997d90007f"
      },
      "execution_count": 16,
      "outputs": [
        {
          "output_type": "stream",
          "name": "stdout",
          "text": [
            "Welcome to High-Low Game!\n",
            "------------------------------------\n",
            "How many rounds do you want to play 1\n",
            "Your number is: 2\n",
            "Is your number higher or lower than the computer's? (higher/lower): 3\n",
            " Aww, That's Incorrect.\n",
            "Your final score is: 0\n",
            "Thanks For Playing\n",
            "Good Job You Played Very Well!\n"
          ]
        }
      ]
    },
    {
      "cell_type": "code",
      "source": [],
      "metadata": {
        "id": "SSq2onS8l3tx"
      },
      "execution_count": null,
      "outputs": []
    }
  ]
}